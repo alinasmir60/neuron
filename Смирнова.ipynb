{
  "nbformat": 4,
  "nbformat_minor": 0,
  "metadata": {
    "colab": {
      "provenance": []
    },
    "kernelspec": {
      "name": "python3",
      "display_name": "Python 3"
    },
    "language_info": {
      "name": "python"
    }
  },
  "cells": [
    {
      "cell_type": "code",
      "execution_count": 1,
      "metadata": {
        "id": "eNr4zqee3vgc"
      },
      "outputs": [],
      "source": [
        "import pandas as pd\n",
        "import numpy as np\n",
        "import math\n",
        "from sklearn.linear_model import LinearRegression\n",
        "from sklearn.model_selection import train_test_split\n",
        "import numpy as np\n",
        "import torch\n",
        "import torch.nn as nn"
      ]
    },
    {
      "cell_type": "code",
      "source": [
        "class MLPptorch(nn.Module):\n",
        "    # как и раньше для инициализации на вход нужно подать размеры входного, скрытого и выходного слоев\n",
        "    def __init__(self, in_size, hidden_size, second_hidden_size,out_size):\n",
        "        nn.Module.__init__(self)\n",
        "        # nn.Sequential - контейнер модулей\n",
        "        # он последовательно объединяет и позволяет запускать их одновременно\n",
        "        self.layers = nn.Sequential(nn.Linear(in_size, hidden_size), # слой линейных сумматоров\n",
        "                                    nn.ReLU(),                    # функция активации\n",
        "                                    nn.Linear(hidden_size, second_hidden_size),\n",
        "                                    nn.ReLU(),\n",
        "                                    nn.Linear(second_hidden_size, out_size),\n",
        "                                    nn.ReLU(),\n",
        "        )\n",
        "\n",
        "\n",
        "    # прямой проход\n",
        "    def forward(self,x):\n",
        "        return self.layers(x)"
      ],
      "metadata": {
        "id": "iLpjK_4Wy6tR"
      },
      "execution_count": 2,
      "outputs": []
    },
    {
      "cell_type": "code",
      "source": [
        "def train(x, y, num_iter):\n",
        "    for i in range(0,num_iter):\n",
        "        pred = net.forward(x)\n",
        "        loss = lossFn(pred, y)\n",
        "        loss.backward()\n",
        "        optimizer.step()\n",
        "        if i%(num_iter/10)==0:\n",
        "           print('Ошибка на ' + str(i) + ' итерации: ', loss.item())\n",
        "    return loss.item()"
      ],
      "metadata": {
        "id": "ZcDipHkzzQIg"
      },
      "execution_count": 3,
      "outputs": []
    },
    {
      "cell_type": "code",
      "source": [
        "#data = pd.read_csv()\n",
        "#df.head(10)"
      ],
      "metadata": {
        "id": "wz8Ci4R83xbZ"
      },
      "execution_count": 153,
      "outputs": []
    },
    {
      "cell_type": "code",
      "source": [
        "h = 10\n",
        "g = 9.8\n",
        "v = np.random.randint(1, 10, 100)\n",
        "np.random.shuffle(v)\n",
        "a = np.random.randint(0, 90, 100)\n",
        "np.random.shuffle(a)\n",
        "print(v, a, sep='\\n')"
      ],
      "metadata": {
        "colab": {
          "base_uri": "https://localhost:8080/"
        },
        "id": "U83QYdktFpR9",
        "outputId": "aba31c89-4463-481d-9e57-251ac611350f"
      },
      "execution_count": 25,
      "outputs": [
        {
          "output_type": "stream",
          "name": "stdout",
          "text": [
            "[3 5 1 2 4 9 6 8 2 3 8 1 2 9 2 5 4 4 4 4 2 9 1 5 4 6 7 6 5 1 8 1 1 1 8 3 1\n",
            " 2 4 8 7 3 4 4 9 8 3 9 6 4 1 5 1 6 4 7 9 8 6 1 8 2 7 2 5 3 7 7 5 6 5 2 9 4\n",
            " 5 5 3 4 5 3 4 5 6 3 3 6 2 6 4 3 9 2 8 5 4 1 6 4 7 4]\n",
            "[ 8 49  7 45  7 57 67 69 79 29 82 48  6 32 23 78 57 86 79 31 44 13  8 41\n",
            " 43 78 32 70 77 88 10 56 38 70 52 69 84 41 34  9 63 53 82 71 89 25  8 69\n",
            "  9 22 41 33 52  3 20 68 78 46 81  5 29 29 87 52 22 72 45 13 84 21 70 25\n",
            " 34 41 77 74 56 78 32 44 34 62 43 79  6 87  2 12  2 16 42 41 10 25 21 81\n",
            " 77 34 27 41]\n"
          ]
        }
      ]
    },
    {
      "cell_type": "code",
      "source": [
        "l=[]\n",
        "for i in range(len(v)):\n",
        "  l.append(2*v[i]**2*math.sin(math.radians(a[i]))/g)"
      ],
      "metadata": {
        "id": "jBtQi5MqQpK8"
      },
      "execution_count": 52,
      "outputs": []
    },
    {
      "cell_type": "code",
      "source": [
        "X = np.stack((v, a), axis=-1)\n",
        "y = l\n",
        "from sklearn.model_selection import train_test_split # подключаем функцию для разделения данных\n",
        "X_train, X_test, y_train, y_test = train_test_split(X, y, test_size=0.4) # и отдаем 30% на тест, остальное на обучение\n",
        "#y_train # убедитесь что и в обучении и в тесте есть данные разных классов\n",
        "#y_test #"
      ],
      "metadata": {
        "id": "z90KTacySlvS"
      },
      "execution_count": 57,
      "outputs": []
    },
    {
      "cell_type": "code",
      "source": [
        "X_train # первые три примера входов обучающих данных"
      ],
      "metadata": {
        "id": "VZy-VSj6ZBwQ",
        "colab": {
          "base_uri": "https://localhost:8080/"
        },
        "outputId": "cd6d065b-a27b-4c70-814c-b746f63ed79a"
      },
      "execution_count": 58,
      "outputs": [
        {
          "output_type": "execute_result",
          "data": {
            "text/plain": [
              "array([[ 2, 41],\n",
              "       [ 9, 34],\n",
              "       [ 8, 25],\n",
              "       [ 5, 77],\n",
              "       [ 4, 21],\n",
              "       [ 2, 23],\n",
              "       [ 6, 21],\n",
              "       [ 2, 45],\n",
              "       [ 6, 81],\n",
              "       [ 7, 87],\n",
              "       [ 4, 86],\n",
              "       [ 2, 41],\n",
              "       [ 3, 79],\n",
              "       [ 6, 12],\n",
              "       [ 3, 56],\n",
              "       [ 1, 38],\n",
              "       [ 6, 77],\n",
              "       [ 2,  6],\n",
              "       [ 7, 32],\n",
              "       [ 5, 25],\n",
              "       [ 5, 84],\n",
              "       [ 1, 81],\n",
              "       [ 3, 16],\n",
              "       [ 3,  6],\n",
              "       [ 6,  9],\n",
              "       [ 2,  2],\n",
              "       [ 4, 82],\n",
              "       [ 4,  2],\n",
              "       [ 3, 29],\n",
              "       [ 1, 52],\n",
              "       [ 1,  7],\n",
              "       [ 1, 88],\n",
              "       [ 9, 69],\n",
              "       [ 7, 13],\n",
              "       [ 8, 10],\n",
              "       [ 4, 79],\n",
              "       [ 6, 70],\n",
              "       [ 1, 84],\n",
              "       [ 8,  9],\n",
              "       [ 5, 78],\n",
              "       [ 4, 20],\n",
              "       [ 8, 29],\n",
              "       [ 3, 69],\n",
              "       [ 3, 72],\n",
              "       [ 9, 42],\n",
              "       [ 1,  8],\n",
              "       [ 8, 82],\n",
              "       [ 2, 29],\n",
              "       [ 5, 32],\n",
              "       [ 8, 52],\n",
              "       [ 9, 13],\n",
              "       [ 7, 63],\n",
              "       [ 5, 70],\n",
              "       [ 1, 48],\n",
              "       [ 4, 78],\n",
              "       [ 9, 78],\n",
              "       [ 7, 45],\n",
              "       [ 2, 79],\n",
              "       [ 3,  8],\n",
              "       [ 4,  7]])"
            ]
          },
          "metadata": {},
          "execution_count": 58
        }
      ]
    },
    {
      "cell_type": "code",
      "source": [
        "inputSize = X.shape[1] # количество входных сигналов равно количеству признаков задачи\n",
        "hiddenSizes = 140 # задаем число нейронов скрытого слоя\n",
        "second_hidden_size = 90\n",
        "outputSize = 1 # количество выходных сигналов равно количеству классов задачи\n",
        "\n",
        "\n",
        "net = MLPptorch(inputSize,hiddenSizes,second_hidden_size,outputSize)\n",
        "lossFn = nn.MSELoss()\n",
        "\n",
        "optimizer = torch.optim.SGD(net.parameters(), lr=0.0000001)"
      ],
      "metadata": {
        "id": "gU_t79kEzpwH"
      },
      "execution_count": 59,
      "outputs": []
    },
    {
      "cell_type": "code",
      "source": [
        "loss_ = train(torch.Tensor(X_train),\n",
        "              torch.Tensor(np.transpose(y_train)), 5000)"
      ],
      "metadata": {
        "colab": {
          "base_uri": "https://localhost:8080/"
        },
        "id": "0y8umqbc0Acn",
        "outputId": "3e182faf-138a-42ba-e582-490d8cd58b7c"
      },
      "execution_count": 60,
      "outputs": [
        {
          "output_type": "stream",
          "name": "stdout",
          "text": [
            "Ошибка на 0 итерации:  27.738012313842773\n",
            "Ошибка на 500 итерации:  23.556304931640625\n",
            "Ошибка на 1000 итерации:  17.955703735351562\n",
            "Ошибка на 1500 итерации:  17.916061401367188\n",
            "Ошибка на 2000 итерации:  17.06209945678711\n",
            "Ошибка на 2500 итерации:  17.00994300842285\n",
            "Ошибка на 3000 итерации:  16.952739715576172\n",
            "Ошибка на 3500 итерации:  16.867586135864258\n",
            "Ошибка на 4000 итерации:  16.668153762817383\n",
            "Ошибка на 4500 итерации:  16.43734359741211\n"
          ]
        }
      ]
    },
    {
      "cell_type": "code",
      "source": [
        "from sklearn.metrics import mean_squared_error\n",
        "pred = net.forward(torch.Tensor(X_test)).detach().numpy()\n",
        "err = sum(abs(pred-np.transpose(y_test)))\n",
        "#print(pred)\n",
        "#print(np.transpose(y_train))\n",
        "print(np.shape(err))\n",
        "print(np.shape(y_test))\n",
        "mean_squared_error(y_test, pred)"
      ],
      "metadata": {
        "colab": {
          "base_uri": "https://localhost:8080/"
        },
        "id": "c7vbinVA219Y",
        "outputId": "78f64af4-c084-4cb6-eefa-056c22d250bc"
      },
      "execution_count": 61,
      "outputs": [
        {
          "output_type": "stream",
          "name": "stdout",
          "text": [
            "(40,)\n",
            "(40,)\n"
          ]
        },
        {
          "output_type": "execute_result",
          "data": {
            "text/plain": [
              "11.33739630305271"
            ]
          },
          "metadata": {},
          "execution_count": 61
        }
      ]
    }
  ]
}