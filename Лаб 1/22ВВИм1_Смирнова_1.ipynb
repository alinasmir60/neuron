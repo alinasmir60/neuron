{
  "nbformat": 4,
  "nbformat_minor": 0,
  "metadata": {
    "colab": {
      "provenance": []
    },
    "kernelspec": {
      "name": "python3",
      "display_name": "Python 3"
    },
    "language_info": {
      "name": "python"
    }
  },
  "cells": [
    {
      "cell_type": "code",
      "execution_count": 1,
      "metadata": {
        "id": "OGhu6fNwD0SL"
      },
      "outputs": [],
      "source": [
        "import pandas as pd\n",
        "import numpy as np\n",
        "import matplotlib.pyplot as plt"
      ]
    },
    {
      "cell_type": "code",
      "source": [
        "# загружаем и подготавляваем данные\n",
        "df = pd.read_csv('/content/data.csv')\n",
        "\n",
        "df = df.iloc[np.random.permutation(len(df))]\n",
        "y = df.iloc[0:100, 4].values\n",
        "y = np.where(y == \"Iris-setosa\", 1, -1)\n",
        "X = df.iloc[0:100, [0, 2]].values\n"
      ],
      "metadata": {
        "id": "RGeQqHDjEXb8"
      },
      "execution_count": 3,
      "outputs": []
    },
    {
      "cell_type": "code",
      "source": [
        "inputSize = X.shape[1] # количество входных сигналов равно количеству признаков задачи\n",
        "hiddenSizes = 10 # задаем число нейронов скрытого (А) слоя\n",
        "outputSize = 1 if len(y.shape) else y.shape[1] # количество выходных сигналов равно количеству классов задачи"
      ],
      "metadata": {
        "id": "88eldahnE28p"
      },
      "execution_count": 5,
      "outputs": []
    },
    {
      "cell_type": "code",
      "source": [
        "# создаем матрицу весов скрытого слоя\n",
        "Win = np.zeros((1+inputSize,hiddenSizes))\n",
        "# пороги w0 задаем случайными числами\n",
        "Win[0,:] = (np.random.randint(0, 3, size = (hiddenSizes)))\n",
        "# остальные веса  задаем случайно -1, 0 или 1\n",
        "Win[1:,:] = (np.random.randint(-1, 2, size = (inputSize,hiddenSizes)))"
      ],
      "metadata": {
        "id": "JqCERxeLFESc"
      },
      "execution_count": 6,
      "outputs": []
    },
    {
      "cell_type": "code",
      "source": [
        "#Wout = np.zeros((1+hiddenSizes,outputSize))\n",
        "\n",
        "# случайно инициализируем веса выходного слоя\n",
        "Wout = np.random.randint(0, 2, size = (1+hiddenSizes,outputSize)).astype(np.float64)"
      ],
      "metadata": {
        "id": "wM8943sXFQ0F"
      },
      "execution_count": 7,
      "outputs": []
    },
    {
      "cell_type": "code",
      "source": [
        "# функция прямого прохода (предсказания)\n",
        "def predict(Xp):\n",
        "    # выходы первого слоя = входные сигналы * веса первого слоя\n",
        "    hidden_predict = np.where((np.dot(Xp, Win[1:,:]) + Win[0,:]) >= 0.0, 1, -1).astype(np.float64)\n",
        "    # выходы второго слоя = выходы первого слоя * веса второго слоя\n",
        "    out = np.where((np.dot(hidden_predict, Wout[1:,:]) + Wout[0,:]) >= 0.0, 1, -1).astype(np.float64)\n",
        "    return out, hidden_predict"
      ],
      "metadata": {
        "id": "UsRuLhHuFYUd"
      },
      "execution_count": 8,
      "outputs": []
    },
    {
      "cell_type": "code",
      "source": [
        "# обучение\n",
        "# у перцептрона Розенблатта обучаются только веса выходного слоя\n",
        "# как и раньше обучаем подавая по одному примеру и корректируем веса в случае ошибки\n",
        "n_iter=0\n",
        "eta = 0.01\n",
        "\n",
        "# список для хранения  матрицы весов второго слоя\n",
        "list_weights = [];\n",
        "\n",
        "break_out_flag = True\n",
        "\n",
        "#обучение\n",
        "while(break_out_flag):\n",
        "    print('iteration:',n_iter)\n",
        "    n_iter+=1\n",
        "\n",
        "    for x_input, expected, j in zip(X, y, range(X.shape[0])):\n",
        "        W_2_out, W_1_out = predict(x_input)\n",
        "        Wout[1:] += ((eta * (expected - W_2_out)) * W_1_out).reshape(-1, 1)\n",
        "        Wout[0] += eta * (expected - W_2_out)\n",
        "\n",
        "    #список матрицы весов второго слоя\n",
        "    list_weights.append(Wout.tobytes())\n",
        "\n",
        "    for item in list_weights:\n",
        "        if list_weights.count(item) > 1:\n",
        "            print('Повторение весов!')\n",
        "            break_out_flag = False\n",
        "            #break\n",
        "\n",
        "    W_2_out, W_1_out = predict(X)\n",
        "    sum_errors = sum(abs(W_2_out.reshape(-1) - y))\n",
        "    print('sum_errors', sum_errors)\n",
        "\n",
        "    if (sum_errors == 0):\n",
        "        print('Все примеры обучающей выборки решены верно')\n",
        "        break\n",
        "\n",
        "for i in range(n_iter):\n",
        "    for xi, target, j in zip(X, y, range(X.shape[0])):\n",
        "        pr, hidden = predict(xi)\n",
        "        Wout[1:] += ((eta * (target - pr)) * hidden).reshape(-1, 1)\n",
        "        Wout[0] += eta * (target - pr)"
      ],
      "metadata": {
        "colab": {
          "base_uri": "https://localhost:8080/"
        },
        "id": "MhpQQUM-FsxG",
        "outputId": "cb3197ce-92f3-4649-fd8f-31c20bf6748e"
      },
      "execution_count": 17,
      "outputs": [
        {
          "output_type": "stream",
          "name": "stdout",
          "text": [
            "iteration: 0\n",
            "sum_errors 100.0\n",
            "iteration: 1\n",
            "Повторение весов!\n",
            "Повторение весов!\n",
            "sum_errors 100.0\n"
          ]
        }
      ]
    },
    {
      "cell_type": "code",
      "source": [
        "# посчитаем сколько ошибок делаем на всей выборке\n",
        "y = df.iloc[:, 4].values\n",
        "y = np.where(y == \"Iris-setosa\", 1, -1)\n",
        "X = df.iloc[:, [0, 2]].values\n",
        "pr, hidden = predict(X)\n",
        "sum(pr-y.reshape(-1, 1))"
      ],
      "metadata": {
        "colab": {
          "base_uri": "https://localhost:8080/"
        },
        "id": "iG51SwT9F2zN",
        "outputId": "4915412b-84f0-4c3f-9599-8e150ccce01d"
      },
      "execution_count": 12,
      "outputs": [
        {
          "output_type": "execute_result",
          "data": {
            "text/plain": [
              "array([-100.])"
            ]
          },
          "metadata": {},
          "execution_count": 12
        }
      ]
    }
  ]
}