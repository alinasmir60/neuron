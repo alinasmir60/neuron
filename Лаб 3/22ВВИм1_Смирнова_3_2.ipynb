{
  "nbformat": 4,
  "nbformat_minor": 0,
  "metadata": {
    "colab": {
      "provenance": []
    },
    "kernelspec": {
      "name": "python3",
      "display_name": "Python 3"
    },
    "language_info": {
      "name": "python"
    }
  },
  "cells": [
    {
      "cell_type": "code",
      "execution_count": 1,
      "metadata": {
        "id": "saIp2dJBBqVs"
      },
      "outputs": [],
      "source": [
        "import pandas as pd\n",
        "import numpy as np\n",
        "import torch\n",
        "import torch.nn as nn"
      ]
    },
    {
      "cell_type": "code",
      "source": [
        "class MLPptorch(nn.Module):\n",
        "    def __init__(self,\n",
        "                 in_size,\n",
        "                 first_hidden_size,\n",
        "                 second_hidden_size,\n",
        "                 third_hidden_size,\n",
        "                 out_size):\n",
        "        nn.Module.__init__(self)\n",
        "        self.layers = nn.Sequential(nn.Linear(in_size, first_hidden_size),\n",
        "                                    nn.ReLU(),\n",
        "                                    nn.Linear(first_hidden_size, second_hidden_size),\n",
        "                                    nn.ReLU(),\n",
        "                                    nn.Linear(second_hidden_size, third_hidden_size),\n",
        "                                    nn.ReLU(),\n",
        "                                    nn.Linear(third_hidden_size, out_size),\n",
        "                                    nn.Sigmoid())\n",
        "\n",
        "    # прямой проход\n",
        "    def forward(self, x):\n",
        "        return self.layers(x)"
      ],
      "metadata": {
        "id": "NShzbGCiBuIi"
      },
      "execution_count": 2,
      "outputs": []
    },
    {
      "cell_type": "code",
      "source": [
        "# функция обучения\n",
        "def train(x, y, num_iter):\n",
        "    for i in range(0,num_iter):\n",
        "        pred = net.forward(x)\n",
        "        loss = lossFn(pred, y)\n",
        "        loss.backward()\n",
        "        optimizer.step()\n",
        "        if i%(num_iter/10)==0:\n",
        "           print('Ошибка на ' + str(i) + ' итерации: ', loss.item())\n",
        "    return loss.item()"
      ],
      "metadata": {
        "id": "2CtLdk6KBuP8"
      },
      "execution_count": 3,
      "outputs": []
    },
    {
      "cell_type": "code",
      "source": [
        "path = '/content/data.csv'\n",
        "df = pd.read_csv(path)\n",
        "df = df.iloc[np.random.permutation(len(df))]\n",
        "\n",
        "X = df.iloc[0:100, 0:3].values\n",
        "y = df.iloc[0:100, 4]\n",
        "y = y.map({'Iris-setosa': 1, 'Iris-virginica': 2, 'Iris-versicolor':3}).values.reshape(-1,1)\n",
        "Y = np.zeros((y.shape[0], np.unique(y).shape[0]))\n",
        "for i in np.unique(y):\n",
        "    Y[:,i-1] = np.where(y == i, 1, 0).reshape(1,-1)\n",
        "\n",
        "X_test = df.iloc[100:150, 0:3].values\n",
        "y = df.iloc[100:150, 4]\n",
        "y = y.map({'Iris-setosa': 1, 'Iris-virginica': 2, 'Iris-versicolor':3}).values.reshape(-1,1)\n",
        "Y_test = np.zeros((y.shape[0], np.unique(y).shape[0]))\n",
        "for i in np.unique(y):\n",
        "    Y_test[:,i-1] = np.where(y == i, 1, 0).reshape(1,-1)\n",
        "\n",
        "\n",
        "inputSize = X.shape[1]  # количество входных сигналов равно количеству признаков задачи\n",
        "first_hidden_size = 50  # задаем число нейронов скрытого слоя\n",
        "second_hidden_size = 20  # задаем число нейронов скрытого слоя\n",
        "third_hidden_size = 10  # задаем число нейронов скрытого слоя\n",
        "outputSize = Y.shape[1] if len(Y.shape) else 1  # количество выходных сигналов равно кол"
      ],
      "metadata": {
        "id": "bdCHlH-6Bxjr"
      },
      "execution_count": 5,
      "outputs": []
    },
    {
      "cell_type": "code",
      "source": [
        "net = MLPptorch(inputSize,\n",
        "                first_hidden_size,\n",
        "                second_hidden_size,\n",
        "                third_hidden_size,\n",
        "                outputSize)\n",
        "lossFn = nn.MSELoss()\n",
        "\n",
        "optimizer = torch.optim.SGD(net.parameters(), lr=0.0001)"
      ],
      "metadata": {
        "id": "wUohYOa5B1D3"
      },
      "execution_count": 9,
      "outputs": []
    },
    {
      "cell_type": "code",
      "source": [
        "loss_ = train(torch.from_numpy(X.astype(np.float32)),\n",
        "              torch.from_numpy(Y.astype(np.float32)), 5000)"
      ],
      "metadata": {
        "colab": {
          "base_uri": "https://localhost:8080/"
        },
        "id": "OsYw3LRBB6dr",
        "outputId": "68eb71ec-a829-4e0d-ad50-136f175b8f03"
      },
      "execution_count": 10,
      "outputs": [
        {
          "output_type": "stream",
          "name": "stdout",
          "text": [
            "Ошибка на 0 итерации:  0.2582118809223175\n",
            "Ошибка на 500 итерации:  0.21075253188610077\n",
            "Ошибка на 1000 итерации:  0.12044975161552429\n",
            "Ошибка на 1500 итерации:  0.10915414243936539\n",
            "Ошибка на 2000 итерации:  0.10183359682559967\n",
            "Ошибка на 2500 итерации:  0.10598441958427429\n",
            "Ошибка на 3000 итерации:  0.10334917902946472\n",
            "Ошибка на 3500 итерации:  0.10455598682165146\n",
            "Ошибка на 4000 итерации:  0.10581620782613754\n",
            "Ошибка на 4500 итерации:  0.10489857941865921\n"
          ]
        }
      ]
    },
    {
      "cell_type": "code",
      "source": [
        "pred = net.forward(torch.from_numpy(X.astype(np.float32))).detach().numpy()\n",
        "err = sum(abs((pred > 0.5) - Y))\n",
        "print(err)\n",
        "\n",
        "pred = net.forward(torch.from_numpy(X_test.astype(np.float32))).detach().numpy()\n",
        "err = sum(abs((pred > 0.5) - Y_test))\n",
        "print(err)"
      ],
      "metadata": {
        "colab": {
          "base_uri": "https://localhost:8080/"
        },
        "id": "OjLeqPqLB8TE",
        "outputId": "965f219b-274c-4c7f-dc19-acbf697360c4"
      },
      "execution_count": 11,
      "outputs": [
        {
          "output_type": "stream",
          "name": "stdout",
          "text": [
            "[ 0.  4. 27.]\n",
            "[ 1.  4. 24.]\n"
          ]
        }
      ]
    }
  ]
}