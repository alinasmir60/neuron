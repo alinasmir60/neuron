{
  "nbformat": 4,
  "nbformat_minor": 0,
  "metadata": {
    "colab": {
      "provenance": []
    },
    "kernelspec": {
      "name": "python3",
      "display_name": "Python 3"
    },
    "language_info": {
      "name": "python"
    }
  },
  "cells": [
    {
      "cell_type": "code",
      "execution_count": null,
      "metadata": {
        "id": "Xh91Bh1l5359"
      },
      "outputs": [],
      "source": [
        "import numpy as np\n",
        "import torch\n",
        "import torch.nn as nn"
      ]
    },
    {
      "cell_type": "code",
      "source": [
        "class MLPptorch(nn.Module):\n",
        "    # как и раньше для инициализации на вход нужно подать размеры входного, скрытого и выходного слоев\n",
        "    def __init__(self, in_size, hidden_size, out_size):\n",
        "        nn.Module.__init__(self)\n",
        "        # nn.Sequential - контейнер модулей\n",
        "        # он последовательно объединяет и позволяет запускать их одновременно\n",
        "        self.layers = nn.Sequential(nn.Linear(in_size, hidden_size), # слой линейных сумматоров\n",
        "                                    nn.Sigmoid(),                    # функция активации\n",
        "                                    nn.Linear(hidden_size, out_size),\n",
        "                                    nn.Sigmoid(),\n",
        "        )\n",
        "\n",
        "\n",
        "    # прямой проход\n",
        "    def forward(self,x):\n",
        "        return self.layers(x)"
      ],
      "metadata": {
        "id": "smTbKe7l6F-l"
      },
      "execution_count": null,
      "outputs": []
    },
    {
      "cell_type": "code",
      "source": [
        "# функция обучения\n",
        "def train(x, y, num_iter):\n",
        "    for i in range(0,num_iter):\n",
        "        pred = net.forward(x)\n",
        "        loss = lossFn(pred, y)\n",
        "        loss.backward()\n",
        "        optimizer.step()\n",
        "        if i%(num_iter/10)==0:\n",
        "           print('Ошибка на ' + str(i) + ' итерации: ', loss.item())\n",
        "    return loss.item()"
      ],
      "metadata": {
        "id": "apd_C6HP6Ot9"
      },
      "execution_count": null,
      "outputs": []
    },
    {
      "cell_type": "code",
      "source": [
        "path = '/content/data.csv'\n",
        "df = pd.read_csv(path)\n",
        "df = df.iloc[np.random.permutation(len(df))]\n",
        "\n",
        "X = df.iloc[0:100, 0:3].values\n",
        "y = df.iloc[0:100, 4]\n",
        "y = y.map({'Iris-setosa': 1, 'Iris-virginica': 2, 'Iris-versicolor':3}).values.reshape(-1,1)\n",
        "Y = np.zeros((y.shape[0], np.unique(y).shape[0]))\n",
        "for i in np.unique(y):\n",
        "    Y[:,i-1] = np.where(y == i, 1, 0).reshape(1,-1)\n",
        "\n",
        "X_test = df.iloc[100:150, 0:3].values\n",
        "y = df.iloc[100:150, 4]\n",
        "y = y.map({'Iris-setosa': 1, 'Iris-virginica': 2, 'Iris-versicolor':3}).values.reshape(-1,1)\n",
        "Y_test = np.zeros((y.shape[0], np.unique(y).shape[0]))\n",
        "for i in np.unique(y):\n",
        "    Y_test[:,i-1] = np.where(y == i, 1, 0).reshape(1,-1)\n",
        "\n",
        "\n",
        "inputSize = X.shape[1] # количество входных сигналов равно количеству признаков задачи\n",
        "hiddenSizes = 50 # задаем число нейронов скрытого слоя\n",
        "outputSize = Y.shape[1] if len(Y.shape) else 1 # количество выходных сигналов ра"
      ],
      "metadata": {
        "id": "Yc4_cXoK7Fsu"
      },
      "execution_count": null,
      "outputs": []
    },
    {
      "cell_type": "code",
      "source": [
        "net = MLPptorch(inputSize,hiddenSizes,outputSize)\n",
        "lossFn = nn.MSELoss()\n",
        "\n",
        "optimizer = torch.optim.SGD(net.parameters(), lr=0.05)"
      ],
      "metadata": {
        "id": "q0j9Jlya7hwG"
      },
      "execution_count": null,
      "outputs": []
    },
    {
      "cell_type": "code",
      "source": [
        "loss_ = train(torch.from_numpy(X.astype(np.float32)),\n",
        "              torch.from_numpy(Y.astype(np.float32)), 5000)"
      ],
      "metadata": {
        "id": "9YMdwklO7lt4",
        "colab": {
          "base_uri": "https://localhost:8080/"
        },
        "outputId": "b172f5ae-77ca-449c-941c-cdbd83ff334d"
      },
      "execution_count": null,
      "outputs": [
        {
          "output_type": "stream",
          "name": "stdout",
          "text": [
            "Ошибка на 0 итерации:  0.28826186060905457\n",
            "Ошибка на 500 итерации:  0.01785464771091938\n",
            "Ошибка на 1000 итерации:  0.01376421470195055\n",
            "Ошибка на 1500 итерации:  0.013334935531020164\n",
            "Ошибка на 2000 итерации:  0.013333388604223728\n",
            "Ошибка на 2500 итерации:  0.013333333656191826\n",
            "Ошибка на 3000 итерации:  0.013339733704924583\n",
            "Ошибка на 3500 итерации:  0.013333342969417572\n",
            "Ошибка на 4000 итерации:  0.013333333656191826\n",
            "Ошибка на 4500 итерации:  0.013333333656191826\n"
          ]
        }
      ]
    },
    {
      "cell_type": "code",
      "source": [
        "pred = net.forward(torch.from_numpy(X.astype(np.float32))).detach().numpy()\n",
        "err = sum(abs((pred > 0.5) - Y))\n",
        "print(err)\n",
        "\n",
        "pred = net.forward(torch.from_numpy(X_test.astype(np.float32))).detach().numpy()\n",
        "err = sum(abs((pred > 0.5) - Y_test))\n",
        "print(err)"
      ],
      "metadata": {
        "id": "skwYRpky7r9h",
        "colab": {
          "base_uri": "https://localhost:8080/"
        },
        "outputId": "be99da9f-7915-43ca-aded-234509716b3b"
      },
      "execution_count": null,
      "outputs": [
        {
          "output_type": "stream",
          "name": "stdout",
          "text": [
            "[0. 2. 2.]\n",
            "[0. 2. 2.]\n"
          ]
        }
      ]
    }
  ]
}